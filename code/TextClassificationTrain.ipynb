{
 "cells": [
  {
   "cell_type": "markdown",
   "metadata": {},
   "source": [
    "### Прочитаем датасет из CSV файла"
   ]
  },
  {
   "cell_type": "code",
   "execution_count": 18,
   "metadata": {},
   "outputs": [],
   "source": [
    "import pandas as pd\n",
    "from gensim.models import Word2Vec\n",
    "import numpy as np"
   ]
  },
  {
   "cell_type": "code",
   "execution_count": 21,
   "metadata": {},
   "outputs": [
    {
     "name": "stderr",
     "output_type": "stream",
     "text": [
      "/usr/lib/python3/dist-packages/tqdm/auto.py:21: TqdmWarning: IProgress not found. Please update jupyter and ipywidgets. See https://ipywidgets.readthedocs.io/en/stable/user_install.html\n",
      "  from .autonotebook import tqdm as notebook_tqdm\n"
     ]
    },
    {
     "name": "stdout",
     "output_type": "stream",
     "text": [
      "Downloading from https://www.kaggle.com/api/v1/datasets/download/hetulmehta/website-classification?dataset_version_number=1...\n"
     ]
    },
    {
     "name": "stderr",
     "output_type": "stream",
     "text": [
      "100%|██████████| 2.00M/2.00M [00:00<00:00, 2.31MB/s]"
     ]
    },
    {
     "name": "stdout",
     "output_type": "stream",
     "text": [
      "Extracting files...\n",
      "Path to dataset files: /home/user/.cache/kagglehub/datasets/hetulmehta/website-classification/versions/1\n"
     ]
    },
    {
     "name": "stderr",
     "output_type": "stream",
     "text": [
      "\n"
     ]
    }
   ],
   "source": [
    "import kagglehub\n",
    "\n",
    "# Download latest version\n",
    "path = kagglehub.dataset_download(\"hetulmehta/website-classification\")\n",
    "\n",
    "print(\"Path to dataset files:\", path)"
   ]
  },
  {
   "cell_type": "code",
   "execution_count": 31,
   "metadata": {},
   "outputs": [
    {
     "name": "stdout",
     "output_type": "stream",
     "text": [
      "      Unnamed: 0                                        website_url  \\\n",
      "0              0     https://www.booking.com/index.html?aid=1743217   \n",
      "1              1                   https://travelsites.com/expedia/   \n",
      "2              2               https://travelsites.com/tripadvisor/   \n",
      "3              3              https://www.momondo.in/?ispredir=true   \n",
      "4              4  https://www.ebookers.com/?AFFCID=EBOOKERS-UK.n...   \n",
      "...          ...                                                ...   \n",
      "1403        1403                           http://www.oldwomen.org/   \n",
      "1404        1404                         http://www.webcamslave.com   \n",
      "1405        1405                        http://www.buyeuroporn.com/   \n",
      "1406        1406  http://www.analdreamhouse.com/30/03/agecheck/i...   \n",
      "1407        1407                     http://www.world-sex-news.com/   \n",
      "\n",
      "                                   cleaned_website_text Category  \\\n",
      "0     official site good hotel accommodation big sav...   Travel   \n",
      "1     expedia hotel book sites like use vacation wor...   Travel   \n",
      "2     tripadvisor hotel book sites like previously d...   Travel   \n",
      "3     cheap flights search compare flights momondo f...   Travel   \n",
      "4     bot create free account create free account si...   Travel   \n",
      "...                                                 ...      ...   \n",
      "1403  old nude women porn mature granny sex horny ol...    Adult   \n",
      "1404  bdsm cams bdsm chat bondage cams free bdsm vid...    Adult   \n",
      "1405  porno dvd online european porn dvd cheap adult...    Adult   \n",
      "1406  anal dream house anal dream house anal dream h...    Adult   \n",
      "1407  world sex news daily sex news adult news eroti...    Adult   \n",
      "\n",
      "                                                 tokens  \n",
      "0     [official, site, good, hotel, accommodation, b...  \n",
      "1     [expedia, hotel, book, sites, like, use, vacat...  \n",
      "2     [tripadvisor, hotel, book, sites, like, previo...  \n",
      "3     [cheap, flights, search, compare, flights, mom...  \n",
      "4     [bot, create, free, account, create, free, acc...  \n",
      "...                                                 ...  \n",
      "1403  [old, nude, women, porn, mature, granny, sex, ...  \n",
      "1404  [bdsm, cams, bdsm, chat, bondage, cams, free, ...  \n",
      "1405  [porno, dvd, online, european, porn, dvd, chea...  \n",
      "1406  [anal, dream, house, anal, dream, house, anal,...  \n",
      "1407  [world, sex, news, daily, sex, news, adult, ne...  \n",
      "\n",
      "[1408 rows x 5 columns]\n"
     ]
    }
   ],
   "source": [
    "df = pd.read_csv(path + '/website_classification.csv')\n",
    "df['tokens'] = df['cleaned_website_text'].str.split()\n",
    "print(df)"
   ]
  },
  {
   "cell_type": "code",
   "execution_count": 37,
   "metadata": {},
   "outputs": [
    {
     "name": "stdout",
     "output_type": "stream",
     "text": [
      "Category\n",
      "Adult                              1583.625000\n",
      "Business/Corporate                  467.844037\n",
      "Computers and Technology            604.462366\n",
      "E-Commerce                          688.901961\n",
      "Education                           890.307018\n",
      "Food                                698.097826\n",
      "Forums                              455.250000\n",
      "Games                               456.132653\n",
      "Health and Fitness                  740.687500\n",
      "Law and Government                  717.226190\n",
      "News                               1536.687500\n",
      "Photography                         605.720430\n",
      "Social Networking and Messaging     313.469880\n",
      "Sports                             1208.980769\n",
      "Streaming Services                  543.485714\n",
      "Travel                              815.327103\n",
      "Name: tokens_count, dtype: float64\n"
     ]
    }
   ],
   "source": [
    "df['tokens_count'] = df['tokens'].apply(lambda x: len(x))\n",
    "print(df.groupby('Category')['tokens_count'].mean())"
   ]
  }
 ],
 "metadata": {
  "kernelspec": {
   "display_name": "Python 3",
   "language": "python",
   "name": "python3"
  },
  "language_info": {
   "codemirror_mode": {
    "name": "ipython",
    "version": 3
   },
   "file_extension": ".py",
   "mimetype": "text/x-python",
   "name": "python",
   "nbconvert_exporter": "python",
   "pygments_lexer": "ipython3",
   "version": "3.12.3"
  }
 },
 "nbformat": 4,
 "nbformat_minor": 2
}
